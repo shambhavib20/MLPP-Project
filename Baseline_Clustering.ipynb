{
 "cells": [
  {
   "cell_type": "code",
   "execution_count": 2,
   "metadata": {},
   "outputs": [],
   "source": [
    "import pandas as pd"
   ]
  },
  {
   "cell_type": "code",
   "execution_count": 5,
   "metadata": {},
   "outputs": [],
   "source": [
    "# donations = pd.read_csv('donations.csv/donations.csv')\n",
    "projects = pd.read_csv('projects.csv/projects.csv')\n",
    "# outcomes = pd.read_csv('outcomes.csv/outcomes.csv')"
   ]
  },
  {
   "cell_type": "code",
   "execution_count": 3,
   "metadata": {},
   "outputs": [
    {
     "data": {
      "text/html": [
       "<div>\n",
       "<style scoped>\n",
       "    .dataframe tbody tr th:only-of-type {\n",
       "        vertical-align: middle;\n",
       "    }\n",
       "\n",
       "    .dataframe tbody tr th {\n",
       "        vertical-align: top;\n",
       "    }\n",
       "\n",
       "    .dataframe thead th {\n",
       "        text-align: right;\n",
       "    }\n",
       "</style>\n",
       "<table border=\"1\" class=\"dataframe\">\n",
       "  <thead>\n",
       "    <tr style=\"text-align: right;\">\n",
       "      <th></th>\n",
       "      <th>projectid</th>\n",
       "      <th>school_charter</th>\n",
       "      <th>school_magnet</th>\n",
       "      <th>school_year_round</th>\n",
       "      <th>school_nlns</th>\n",
       "      <th>school_kipp</th>\n",
       "      <th>school_charter_ready_promise</th>\n",
       "      <th>teacher_prefix</th>\n",
       "      <th>teacher_teach_for_america</th>\n",
       "      <th>teacher_ny_teaching_fellow</th>\n",
       "      <th>...</th>\n",
       "      <th>primary_focus_subject_Special Needs</th>\n",
       "      <th>primary_focus_subject_Sports</th>\n",
       "      <th>primary_focus_subject_Visual Arts</th>\n",
       "      <th>primary_focus_area_Applied Learning</th>\n",
       "      <th>primary_focus_area_Health &amp; Sports</th>\n",
       "      <th>primary_focus_area_History &amp; Civics</th>\n",
       "      <th>primary_focus_area_Literacy &amp; Language</th>\n",
       "      <th>primary_focus_area_Math &amp; Science</th>\n",
       "      <th>primary_focus_area_Music &amp; The Arts</th>\n",
       "      <th>primary_focus_area_Special Needs</th>\n",
       "    </tr>\n",
       "  </thead>\n",
       "  <tbody>\n",
       "    <tr>\n",
       "      <th>0</th>\n",
       "      <td>fffeebf4827d745aa36b17c2d38d1966</td>\n",
       "      <td>0</td>\n",
       "      <td>0</td>\n",
       "      <td>0</td>\n",
       "      <td>0</td>\n",
       "      <td>0</td>\n",
       "      <td>0</td>\n",
       "      <td>0</td>\n",
       "      <td>0</td>\n",
       "      <td>0</td>\n",
       "      <td>...</td>\n",
       "      <td>0</td>\n",
       "      <td>0</td>\n",
       "      <td>0</td>\n",
       "      <td>0</td>\n",
       "      <td>0</td>\n",
       "      <td>0</td>\n",
       "      <td>0</td>\n",
       "      <td>0</td>\n",
       "      <td>1</td>\n",
       "      <td>0</td>\n",
       "    </tr>\n",
       "    <tr>\n",
       "      <th>1</th>\n",
       "      <td>fffdfdcf27588d2d32c15c12dec3a2cb</td>\n",
       "      <td>0</td>\n",
       "      <td>0</td>\n",
       "      <td>0</td>\n",
       "      <td>0</td>\n",
       "      <td>0</td>\n",
       "      <td>0</td>\n",
       "      <td>1</td>\n",
       "      <td>0</td>\n",
       "      <td>0</td>\n",
       "      <td>...</td>\n",
       "      <td>0</td>\n",
       "      <td>0</td>\n",
       "      <td>0</td>\n",
       "      <td>0</td>\n",
       "      <td>0</td>\n",
       "      <td>0</td>\n",
       "      <td>1</td>\n",
       "      <td>0</td>\n",
       "      <td>0</td>\n",
       "      <td>0</td>\n",
       "    </tr>\n",
       "    <tr>\n",
       "      <th>2</th>\n",
       "      <td>fffc602212a37bd35f49c51d2cd6a514</td>\n",
       "      <td>0</td>\n",
       "      <td>0</td>\n",
       "      <td>0</td>\n",
       "      <td>0</td>\n",
       "      <td>0</td>\n",
       "      <td>0</td>\n",
       "      <td>1</td>\n",
       "      <td>0</td>\n",
       "      <td>0</td>\n",
       "      <td>...</td>\n",
       "      <td>0</td>\n",
       "      <td>0</td>\n",
       "      <td>0</td>\n",
       "      <td>0</td>\n",
       "      <td>0</td>\n",
       "      <td>1</td>\n",
       "      <td>0</td>\n",
       "      <td>0</td>\n",
       "      <td>0</td>\n",
       "      <td>0</td>\n",
       "    </tr>\n",
       "    <tr>\n",
       "      <th>3</th>\n",
       "      <td>fffc128714a3035d7af7637c4ab30615</td>\n",
       "      <td>1</td>\n",
       "      <td>0</td>\n",
       "      <td>0</td>\n",
       "      <td>0</td>\n",
       "      <td>1</td>\n",
       "      <td>0</td>\n",
       "      <td>1</td>\n",
       "      <td>1</td>\n",
       "      <td>0</td>\n",
       "      <td>...</td>\n",
       "      <td>1</td>\n",
       "      <td>0</td>\n",
       "      <td>0</td>\n",
       "      <td>0</td>\n",
       "      <td>0</td>\n",
       "      <td>0</td>\n",
       "      <td>0</td>\n",
       "      <td>0</td>\n",
       "      <td>0</td>\n",
       "      <td>1</td>\n",
       "    </tr>\n",
       "    <tr>\n",
       "      <th>4</th>\n",
       "      <td>fffbc23d5c2ece64168af350ab9f6cad</td>\n",
       "      <td>0</td>\n",
       "      <td>0</td>\n",
       "      <td>0</td>\n",
       "      <td>0</td>\n",
       "      <td>0</td>\n",
       "      <td>0</td>\n",
       "      <td>1</td>\n",
       "      <td>0</td>\n",
       "      <td>0</td>\n",
       "      <td>...</td>\n",
       "      <td>0</td>\n",
       "      <td>0</td>\n",
       "      <td>0</td>\n",
       "      <td>0</td>\n",
       "      <td>0</td>\n",
       "      <td>0</td>\n",
       "      <td>0</td>\n",
       "      <td>1</td>\n",
       "      <td>0</td>\n",
       "      <td>0</td>\n",
       "    </tr>\n",
       "  </tbody>\n",
       "</table>\n",
       "<p>5 rows × 62 columns</p>\n",
       "</div>"
      ],
      "text/plain": [
       "                          projectid  school_charter  school_magnet  \\\n",
       "0  fffeebf4827d745aa36b17c2d38d1966               0              0   \n",
       "1  fffdfdcf27588d2d32c15c12dec3a2cb               0              0   \n",
       "2  fffc602212a37bd35f49c51d2cd6a514               0              0   \n",
       "3  fffc128714a3035d7af7637c4ab30615               1              0   \n",
       "4  fffbc23d5c2ece64168af350ab9f6cad               0              0   \n",
       "\n",
       "   school_year_round  school_nlns  school_kipp  school_charter_ready_promise  \\\n",
       "0                  0            0            0                             0   \n",
       "1                  0            0            0                             0   \n",
       "2                  0            0            0                             0   \n",
       "3                  0            0            1                             0   \n",
       "4                  0            0            0                             0   \n",
       "\n",
       "   teacher_prefix  teacher_teach_for_america  teacher_ny_teaching_fellow  ...  \\\n",
       "0               0                          0                           0  ...   \n",
       "1               1                          0                           0  ...   \n",
       "2               1                          0                           0  ...   \n",
       "3               1                          1                           0  ...   \n",
       "4               1                          0                           0  ...   \n",
       "\n",
       "   primary_focus_subject_Special Needs  primary_focus_subject_Sports  \\\n",
       "0                                    0                             0   \n",
       "1                                    0                             0   \n",
       "2                                    0                             0   \n",
       "3                                    1                             0   \n",
       "4                                    0                             0   \n",
       "\n",
       "   primary_focus_subject_Visual Arts  primary_focus_area_Applied Learning  \\\n",
       "0                                  0                                    0   \n",
       "1                                  0                                    0   \n",
       "2                                  0                                    0   \n",
       "3                                  0                                    0   \n",
       "4                                  0                                    0   \n",
       "\n",
       "   primary_focus_area_Health & Sports  primary_focus_area_History & Civics  \\\n",
       "0                                   0                                    0   \n",
       "1                                   0                                    0   \n",
       "2                                   0                                    1   \n",
       "3                                   0                                    0   \n",
       "4                                   0                                    0   \n",
       "\n",
       "   primary_focus_area_Literacy & Language  primary_focus_area_Math & Science  \\\n",
       "0                                       0                                  0   \n",
       "1                                       1                                  0   \n",
       "2                                       0                                  0   \n",
       "3                                       0                                  0   \n",
       "4                                       0                                  1   \n",
       "\n",
       "   primary_focus_area_Music & The Arts  primary_focus_area_Special Needs  \n",
       "0                                    1                                 0  \n",
       "1                                    0                                 0  \n",
       "2                                    0                                 0  \n",
       "3                                    0                                 1  \n",
       "4                                    0                                 0  \n",
       "\n",
       "[5 rows x 62 columns]"
      ]
     },
     "execution_count": 3,
     "metadata": {},
     "output_type": "execute_result"
    }
   ],
   "source": [
    "data = pd.read_csv(\"clustering_data_cleaned.csv\")\n",
    "data.head()"
   ]
  },
  {
   "cell_type": "code",
   "execution_count": 6,
   "metadata": {},
   "outputs": [
    {
     "data": {
      "text/plain": [
       "{'projectid'}"
      ]
     },
     "execution_count": 6,
     "metadata": {},
     "output_type": "execute_result"
    }
   ],
   "source": [
    "# donations_set = set(donations.columns)\n",
    "# projects_set = set(projects.columns)\n",
    "# outcomes_set = set(outcomes.columns)\n",
    "\n",
    "# dp_set = donations_set.intersection(projects_set)\n",
    "# dp_set"
   ]
  },
  {
   "cell_type": "code",
   "execution_count": 7,
   "metadata": {},
   "outputs": [
    {
     "data": {
      "text/plain": [
       "Index(['donationid', 'projectid', 'donor_acctid', 'donor_city', 'donor_state',\n",
       "       'donor_zip', 'is_teacher_acct', 'donation_timestamp',\n",
       "       'donation_to_project', 'donation_optional_support', 'donation_total',\n",
       "       'dollar_amount', 'donation_included_optional_support', 'payment_method',\n",
       "       'payment_included_acct_credit', 'payment_included_campaign_gift_card',\n",
       "       'payment_included_web_purchased_gift_card', 'payment_was_promo_matched',\n",
       "       'via_giving_page', 'for_honoree', 'donation_message', 'teacher_acctid',\n",
       "       'schoolid', 'school_ncesid', 'school_latitude', 'school_longitude',\n",
       "       'school_city', 'school_state', 'school_zip', 'school_metro',\n",
       "       'school_district', 'school_county', 'school_charter', 'school_magnet',\n",
       "       'school_year_round', 'school_nlns', 'school_kipp',\n",
       "       'school_charter_ready_promise', 'teacher_prefix',\n",
       "       'teacher_teach_for_america', 'teacher_ny_teaching_fellow',\n",
       "       'primary_focus_subject', 'primary_focus_area',\n",
       "       'secondary_focus_subject', 'secondary_focus_area', 'resource_type',\n",
       "       'poverty_level', 'grade_level', 'fulfillment_labor_materials',\n",
       "       'total_price_excluding_optional_support',\n",
       "       'total_price_including_optional_support', 'students_reached',\n",
       "       'eligible_double_your_impact_match', 'eligible_almost_home_match',\n",
       "       'date_posted', 'is_exciting', 'at_least_1_teacher_referred_donor',\n",
       "       'fully_funded', 'at_least_1_green_donation', 'great_chat',\n",
       "       'three_or_more_non_teacher_referred_donors',\n",
       "       'one_non_teacher_referred_donor_giving_100_plus',\n",
       "       'donation_from_thoughtful_donor', 'great_messages_proportion',\n",
       "       'teacher_referred_count', 'non_teacher_referred_count'],\n",
       "      dtype='object')"
      ]
     },
     "execution_count": 7,
     "metadata": {},
     "output_type": "execute_result"
    }
   ],
   "source": [
    "# data = pd.merge(donations, projects, on='projectid')\n",
    "# data = pd.merge(data, outcomes, on='projectid')\n",
    "# data.columns"
   ]
  },
  {
   "cell_type": "code",
   "execution_count": 6,
   "metadata": {},
   "outputs": [
    {
     "data": {
      "text/plain": [
       "Index(['projectid', 'school_charter', 'school_magnet', 'school_year_round',\n",
       "       'school_nlns', 'school_kipp', 'school_charter_ready_promise',\n",
       "       'teacher_prefix', 'teacher_teach_for_america',\n",
       "       'teacher_ny_teaching_fellow', 'poverty_level',\n",
       "       'eligible_double_your_impact_match', 'eligible_almost_home_match',\n",
       "       'len_essay', 'len_short_desc', 'len_need_statement',\n",
       "       'Num_essays_submitted', 'Analysis_Polarity_short_description',\n",
       "       'Analysis_Polarity_title', 'region_Central', 'region_East',\n",
       "       'region_North', 'region_Northwest', 'region_Other', 'region_South',\n",
       "       'region_Southeast', 'region_Southwest', 'region_West',\n",
       "       'primary_focus_subject_Applied Sciences',\n",
       "       'primary_focus_subject_Character Education',\n",
       "       'primary_focus_subject_Civics & Government',\n",
       "       'primary_focus_subject_College & Career Prep',\n",
       "       'primary_focus_subject_Community Service', 'primary_focus_subject_ESL',\n",
       "       'primary_focus_subject_Early Development',\n",
       "       'primary_focus_subject_Economics',\n",
       "       'primary_focus_subject_Environmental Science',\n",
       "       'primary_focus_subject_Extracurricular',\n",
       "       'primary_focus_subject_Foreign Languages',\n",
       "       'primary_focus_subject_Gym & Fitness',\n",
       "       'primary_focus_subject_Health & Life Science',\n",
       "       'primary_focus_subject_Health & Wellness',\n",
       "       'primary_focus_subject_History & Geography',\n",
       "       'primary_focus_subject_Literacy',\n",
       "       'primary_focus_subject_Literature & Writing',\n",
       "       'primary_focus_subject_Mathematics', 'primary_focus_subject_Music',\n",
       "       'primary_focus_subject_Nutrition', 'primary_focus_subject_Other',\n",
       "       'primary_focus_subject_Parent Involvement',\n",
       "       'primary_focus_subject_Performing Arts',\n",
       "       'primary_focus_subject_Social Sciences',\n",
       "       'primary_focus_subject_Special Needs', 'primary_focus_subject_Sports',\n",
       "       'primary_focus_subject_Visual Arts',\n",
       "       'primary_focus_area_Applied Learning',\n",
       "       'primary_focus_area_Health & Sports',\n",
       "       'primary_focus_area_History & Civics',\n",
       "       'primary_focus_area_Literacy & Language',\n",
       "       'primary_focus_area_Math & Science',\n",
       "       'primary_focus_area_Music & The Arts',\n",
       "       'primary_focus_area_Special Needs', 'Cluster', 'school_latitude',\n",
       "       'school_longitude'],\n",
       "      dtype='object')"
      ]
     },
     "execution_count": 6,
     "metadata": {},
     "output_type": "execute_result"
    }
   ],
   "source": [
    "# merge data with projects keeping only school_latitue and school_longitude from projects\n",
    "data = pd.merge(data, projects[['projectid', 'school_latitude', 'school_longitude']], on='projectid')\n",
    "data.columns"
   ]
  },
  {
   "cell_type": "code",
   "execution_count": 7,
   "metadata": {},
   "outputs": [],
   "source": [
    "# Step 1: Import Necessary Libraries\n",
    "import pandas as pd\n",
    "import numpy as np\n",
    "import matplotlib.pyplot as plt\n",
    "import seaborn as sns\n",
    "\n",
    "# Step 3: Preprocess Data\n",
    "\n",
    "# Encode categorical variables if any\n",
    "# data = pd.get_dummies(data, columns=['categorical_column'])\n",
    "\n",
    "# Step 4: Randomly Assign Clusters\n",
    "# Define the number of clusters\n",
    "n_clusters = 300\n",
    "\n",
    "# Randomly assign cluster labels\n",
    "np.random.seed(42)  # For reproducibility\n",
    "data['Cluster'] = np.random.randint(0, n_clusters, size=len(data))\n",
    "\n",
    "# # Step 5: Visualize Clusters\n",
    "# # Assuming we want to visualize the first two features\n",
    "# plt.figure(figsize=(10, 6))\n",
    "# sns.scatterplot(x=data.iloc[:, 0], y=data.iloc[:, 1], hue='Cluster', palette='viridis', data=data)\n",
    "# plt.title('Randomly Assigned Clusters Visualization')\n",
    "# plt.show()"
   ]
  },
  {
   "cell_type": "code",
   "execution_count": 8,
   "metadata": {},
   "outputs": [
    {
     "data": {
      "image/png": "[encoded data removed]",
      "text/plain": [
       "<Figure size 640x480 with 2 Axes>"
      ]
     },
     "metadata": {},
     "output_type": "display_data"
    }
   ],
   "source": [
    "plt.scatter(data['school_longitude'], data['school_latitude'], c=data['Cluster'], cmap='viridis', alpha=0.5)\n",
    "plt.colorbar(label='Cluster')\n",
    "plt.xlabel('Longitude')\n",
    "plt.ylabel('Latitude')\n",
    "plt.title('Geographic Distribution of Project Clusters')\n",
    "plt.show()"
   ]
  },
  {
   "cell_type": "code",
   "execution_count": 10,
   "metadata": {},
   "outputs": [],
   "source": [
    "# drop the projectid and latitude and longitude columns\n",
    "scores_data = data.drop(columns=['projectid', 'school_latitude', 'school_longitude'])\n"
   ]
  },
  {
   "cell_type": "code",
   "execution_count": 11,
   "metadata": {},
   "outputs": [
    {
     "name": "stdout",
     "output_type": "stream",
     "text": [
      "Number of clusters: 65\n",
      "Calinski-Harabasz Index: 923716.4056405433\n",
      "Davies-Bouldin Index: 3.6567412793907805\n"
     ]
    }
   ],
   "source": [
    "n_clusters_ = len(set(data)) - (1 if -1 in data else 0)\n",
    "print(f\"Number of clusters: {n_clusters_}\")\n",
    "\n",
    "from sklearn.metrics import silhouette_score, calinski_harabasz_score, davies_bouldin_score\n",
    "\n",
    "score = calinski_harabasz_score(scores_data, scores_data['Cluster'])\n",
    "print(\"Calinski-Harabasz Index:\", score)\n",
    "\n",
    "dbi = davies_bouldin_score(scores_data, scores_data['Cluster'])\n",
    "print(f\"Davies-Bouldin Index: {dbi}\")"
   ]
  },
  {
   "cell_type": "code",
   "execution_count": 13,
   "metadata": {},
   "outputs": [],
   "source": [
    "donors = pd.read_csv('donations.csv/donations.csv')\n",
    "donors = donors[['projectid', 'donor_acctid']]"
   ]
  },
  {
   "cell_type": "code",
   "execution_count": 19,
   "metadata": {},
   "outputs": [
    {
     "name": "stdout",
     "output_type": "stream",
     "text": [
      "projectid                               0\n",
      "school_charter                          0\n",
      "school_magnet                           0\n",
      "school_year_round                       0\n",
      "school_nlns                             0\n",
      "                                    ...  \n",
      "primary_focus_area_Special Needs        0\n",
      "Cluster                                 0\n",
      "school_latitude                         0\n",
      "school_longitude                        0\n",
      "donor_acctid                        23267\n",
      "Length: 66, dtype: int64\n"
     ]
    }
   ],
   "source": [
    "clustering_metric = pd.merge(data, donors, on='projectid', how='left')\n",
    "print(clustering_metric.isnull().sum())\n",
    "clustering_metric.rename(columns={'donor_acctid':'donor_id', 'Cluster':'cluster_id'}, inplace=True)\n"
   ]
  },
  {
   "cell_type": "code",
   "execution_count": 20,
   "metadata": {},
   "outputs": [],
   "source": [
    "import pandas as pd\n",
    "import numpy as np\n",
    "\n",
    "\n",
    "def calculate_weighted_entropy(df: pd.DataFrame) -> pd.DataFrame:\n",
    "    # Step 1: Calculate the count of donations per donor\n",
    "    donor_total_counts = df.groupby('donor_id').size().reset_index(name='total_count')\n",
    "\n",
    "    # Step 2: Filter out donors who donated fewer than 2 times\n",
    "    valid_donors = donor_total_counts[donor_total_counts['total_count'] >= 2]['donor_id']\n",
    "    filtered_df = df[df['donor_id'].isin(valid_donors)]\n",
    "\n",
    "    # Step 3: Calculate the count of donations per donor per cluster\n",
    "    donor_cluster_counts = filtered_df.groupby(['donor_id', 'cluster_id']).size().reset_index(name='count')\n",
    "\n",
    "    # Step 4: Calculate the total count of donations per donor\n",
    "    donor_total_counts = donor_cluster_counts.groupby('donor_id')['count'].sum().reset_index(name='total_count')\n",
    "\n",
    "    # Step 5: Merge to get the total count per donor\n",
    "    donor_cluster_counts = donor_cluster_counts.merge(donor_total_counts, on='donor_id')\n",
    "\n",
    "    # Step 6: Calculate the probability of donating to each cluster for each donor\n",
    "    donor_cluster_counts['probability'] = donor_cluster_counts['count'] / donor_cluster_counts['total_count']\n",
    "\n",
    "    # Step 7: Calculate the entropy for each donor\n",
    "    donor_cluster_counts['entropy_component'] = -donor_cluster_counts['probability'] * np.log2(donor_cluster_counts['probability'])\n",
    "    entropy_df = donor_cluster_counts.groupby('donor_id')['entropy_component'].sum().reset_index()\n",
    "    entropy_df.rename(columns={'entropy_component': 'entropy'}, inplace=True)\n",
    "\n",
    "    # Step 8: Calculate the weight adjustment for each donor\n",
    "    entropy_df = entropy_df.merge(donor_total_counts, on='donor_id')\n",
    "    entropy_df['weight_adjustment'] = 1 / (np.log(entropy_df['total_count'] + 1) + 1)\n",
    "\n",
    "    # Step 9: Calculate the weighted entropy\n",
    "    entropy_df['weighted_entropy'] = entropy_df['entropy'] * entropy_df['weight_adjustment']\n",
    "\n",
    "    # Return the final DataFrame with donor_id, entropy, and weighted_entropy\n",
    "    return entropy_df[['donor_id', 'entropy', 'weighted_entropy']]"
   ]
  },
  {
   "cell_type": "code",
   "execution_count": 21,
   "metadata": {},
   "outputs": [
    {
     "name": "stdout",
     "output_type": "stream",
     "text": [
      "                               donor_id   entropy  weighted_entropy\n",
      "0      0000482911ae76b75d260d9f1fe60bca  2.584963          0.877475\n",
      "1      000131ab172291002281c7bcbc23a0b6  1.000000          0.476505\n",
      "2      0006f3a33e15d561eaa187402ab6a564  1.000000          0.476505\n",
      "3      00080c99912eae7f223122fe6f04d1f9  1.000000          0.476505\n",
      "4      000b97503d29b66926cf9db06ea60f49  0.000000          0.000000\n",
      "...                                 ...       ...               ...\n",
      "73987  fffa28a29c9ab8ac16494bb026a6545c  1.000000          0.476505\n",
      "73988  fffb15d0f430ce9eb9ac9a1ee8ac3187  2.000000          0.766449\n",
      "73989  fffbd6241b2096a550503e49570d5538  1.000000          0.476505\n",
      "73990  fffbf616e35301c5265010f943aec727  1.000000          0.476505\n",
      "73991  fffce3f0a6d8e368b0022b94cc686f69  2.750000          0.860121\n",
      "\n",
      "[73992 rows x 3 columns]\n"
     ]
    }
   ],
   "source": [
    "entropy_df_random = calculate_weighted_entropy(clustering_metric)\n",
    "print(entropy_df_random)"
   ]
  },
  {
   "cell_type": "code",
   "execution_count": 22,
   "metadata": {},
   "outputs": [
    {
     "name": "stdout",
     "output_type": "stream",
     "text": [
      "0.5035774757511575\n"
     ]
    }
   ],
   "source": [
    "avg_weighted_entropy = entropy_df_random['weighted_entropy'].mean()\n",
    "print(avg_weighted_entropy)"
   ]
  },
  {
   "cell_type": "code",
   "execution_count": 14,
   "metadata": {},
   "outputs": [
    {
     "data": {
      "text/html": [
       "<div>\n",
       "<style scoped>\n",
       "    .dataframe tbody tr th:only-of-type {\n",
       "        vertical-align: middle;\n",
       "    }\n",
       "\n",
       "    .dataframe tbody tr th {\n",
       "        vertical-align: top;\n",
       "    }\n",
       "\n",
       "    .dataframe thead th {\n",
       "        text-align: right;\n",
       "    }\n",
       "</style>\n",
       "<table border=\"1\" class=\"dataframe\">\n",
       "  <thead>\n",
       "    <tr style=\"text-align: right;\">\n",
       "      <th></th>\n",
       "      <th>projectid</th>\n",
       "      <th>Cluster labels with HDBSCAN 2</th>\n",
       "    </tr>\n",
       "  </thead>\n",
       "  <tbody>\n",
       "    <tr>\n",
       "      <th>0</th>\n",
       "      <td>fffeebf4827d745aa36b17c2d38d1966</td>\n",
       "      <td>15</td>\n",
       "    </tr>\n",
       "    <tr>\n",
       "      <th>1</th>\n",
       "      <td>fffdfdcf27588d2d32c15c12dec3a2cb</td>\n",
       "      <td>134</td>\n",
       "    </tr>\n",
       "    <tr>\n",
       "      <th>2</th>\n",
       "      <td>fffc602212a37bd35f49c51d2cd6a514</td>\n",
       "      <td>24</td>\n",
       "    </tr>\n",
       "    <tr>\n",
       "      <th>3</th>\n",
       "      <td>fffc128714a3035d7af7637c4ab30615</td>\n",
       "      <td>-1</td>\n",
       "    </tr>\n",
       "    <tr>\n",
       "      <th>4</th>\n",
       "      <td>fffbc23d5c2ece64168af350ab9f6cad</td>\n",
       "      <td>164</td>\n",
       "    </tr>\n",
       "  </tbody>\n",
       "</table>\n",
       "</div>"
      ],
      "text/plain": [
       "                          projectid  Cluster labels with HDBSCAN 2\n",
       "0  fffeebf4827d745aa36b17c2d38d1966                             15\n",
       "1  fffdfdcf27588d2d32c15c12dec3a2cb                            134\n",
       "2  fffc602212a37bd35f49c51d2cd6a514                             24\n",
       "3  fffc128714a3035d7af7637c4ab30615                             -1\n",
       "4  fffbc23d5c2ece64168af350ab9f6cad                            164"
      ]
     },
     "execution_count": 14,
     "metadata": {},
     "output_type": "execute_result"
    }
   ],
   "source": [
    "final = pd.read_csv(\"final_cluster_labels.csv\")\n",
    "final.head()"
   ]
  },
  {
   "cell_type": "code",
   "execution_count": 24,
   "metadata": {},
   "outputs": [
    {
     "name": "stdout",
     "output_type": "stream",
     "text": [
      "projectid                            0\n",
      "Cluster labels with HDBSCAN 2        0\n",
      "donor_acctid                     23267\n",
      "dtype: int64\n"
     ]
    }
   ],
   "source": [
    "clustering_metric = pd.merge(final, donors, on='projectid', how='left')\n",
    "print(clustering_metric.isnull().sum())\n",
    "clustering_metric.rename(columns={'donor_acctid':'donor_id', 'Cluster labels with HDBSCAN 2':'cluster_id'}, inplace=True)\n"
   ]
  },
  {
   "cell_type": "code",
   "execution_count": 25,
   "metadata": {},
   "outputs": [
    {
     "name": "stdout",
     "output_type": "stream",
     "text": [
      "                               donor_id   entropy  weighted_entropy\n",
      "0      0000482911ae76b75d260d9f1fe60bca  2.251629          0.764324\n",
      "1      000131ab172291002281c7bcbc23a0b6  1.000000          0.476505\n",
      "2      0006f3a33e15d561eaa187402ab6a564  0.000000          0.000000\n",
      "3      00080c99912eae7f223122fe6f04d1f9  1.000000          0.476505\n",
      "4      000b97503d29b66926cf9db06ea60f49  0.000000          0.000000\n",
      "...                                 ...       ...               ...\n",
      "73987  fffa28a29c9ab8ac16494bb026a6545c  1.000000          0.476505\n",
      "73988  fffb15d0f430ce9eb9ac9a1ee8ac3187  2.000000          0.766449\n",
      "73989  fffbd6241b2096a550503e49570d5538  1.000000          0.476505\n",
      "73990  fffbf616e35301c5265010f943aec727  1.000000          0.476505\n",
      "73991  fffce3f0a6d8e368b0022b94cc686f69  2.500000          0.781928\n",
      "\n",
      "[73992 rows x 3 columns]\n"
     ]
    }
   ],
   "source": [
    "entropy_df_hdbscan = calculate_weighted_entropy(clustering_metric)\n",
    "print(entropy_df_hdbscan)"
   ]
  },
  {
   "cell_type": "code",
   "execution_count": 26,
   "metadata": {},
   "outputs": [
    {
     "name": "stdout",
     "output_type": "stream",
     "text": [
      "0.3517062796482014\n"
     ]
    }
   ],
   "source": [
    "avg_weighted_entropy = entropy_df_hdbscan['weighted_entropy'].mean()\n",
    "print(avg_weighted_entropy)"
   ]
  },
  {
   "cell_type": "code",
   "execution_count": null,
   "metadata": {},
   "outputs": [],
   "source": []
  }
 ],
 "metadata": {
  "kernelspec": {
   "display_name": "base",
   "language": "python",
   "name": "python3"
  },
  "language_info": {
   "codemirror_mode": {
    "name": "ipython",
    "version": 3
   },
   "file_extension": ".py",
   "mimetype": "text/x-python",
   "name": "python",
   "nbconvert_exporter": "python",
   "pygments_lexer": "ipython3",
   "version": "3.11.10"
  }
 },
 "nbformat": 4,
 "nbformat_minor": 2
}
