{
 "cells": [
  {
   "cell_type": "code",
   "execution_count": 5,
   "metadata": {},
   "outputs": [],
   "source": [
    "import pandas as pd\n",
    "import matplotlib.pyplot as plt\n",
    "from sklearn.linear_model import LogisticRegression\n",
    "from sklearn.svm import SVC\n",
    "from sklearn.ensemble import RandomForestClassifier\n",
    "from sklearn.preprocessing import StandardScaler\n",
    "from sklearn.pipeline import Pipeline\n",
    "from sklearn.naive_bayes import GaussianNB\n",
    "from sklearn.svm import LinearSVC\n",
    "from sklearn.calibration import CalibratedClassifierCV\n",
    "from sklearn.metrics import (\n",
    "    accuracy_score, precision_score, recall_score,\n",
    "    f1_score, roc_auc_score\n",
    ")\n",
    "from sklearn.ensemble import RandomForestClassifier, GradientBoostingClassifier\n",
    "import seaborn as sns\n",
    "import numpy as np\n"
   ]
  },
  {
   "cell_type": "code",
   "execution_count": 6,
   "metadata": {},
   "outputs": [],
   "source": [
    "project=pd.read_csv(\"projects.csv\")\n",
    "donation = pd.read_csv(\"donations.csv\")\n",
    "outcomes=pd.read_csv(\"outcomes.csv\")"
   ]
  },
  {
   "cell_type": "markdown",
   "metadata": {},
   "source": [
    "# creating timseries data"
   ]
  },
  {
   "cell_type": "code",
   "execution_count": 7,
   "metadata": {},
   "outputs": [
    {
     "data": {
      "text/plain": [
       "221418"
      ]
     },
     "execution_count": 7,
     "metadata": {},
     "output_type": "execute_result"
    }
   ],
   "source": [
    "project_df=project\n",
    "outcomes_df=outcomes\n",
    "donation_df=donation\n",
    "col =[\"projectid\", \"total_price_excluding_optional_support\",\"date_posted\"]\n",
    "# only need data from the highest Poverty Level\n",
    "project_df=project_df[project_df[\"poverty_level\"]==\"highest poverty\"]\n",
    "project_df=project_df[col]\n",
    "project_df = pd.merge(project_df,outcomes_df[[\"projectid\",\"fully_funded\"]], on =\"projectid\", how =\"left\")\n",
    "project_df[\"fully_funded\"]=project_df.fully_funded.fillna('f')\n",
    "project_df[\"date_posted\"]=pd.to_datetime(project_df[\"date_posted\"])\n",
    "project_df[\"week\"] = 0\n",
    "dataframes = [project_df.copy()]\n",
    "for week_shift in range(1, 5):\n",
    "    # Duplicate DataFrame\n",
    "    temp_df = project_df.copy()\n",
    "    # Shift the date_posted column by month_shift months\n",
    "    temp_df[\"date_posted\"] = temp_df[\"date_posted\"] + pd.DateOffset(months=week_shift)\n",
    "    # Set the month column to the current shift\n",
    "    temp_df[\"week\"] = week_shift\n",
    "    # Append the shifted DataFrame to the list\n",
    "    dataframes.append(temp_df)\n",
    "project_df_combined = pd.concat(dataframes, ignore_index=True)\n",
    "# donation_df preparation\n",
    "donation_df[\"donation_timestamp\"]= pd.to_datetime(donation_df[\"donation_timestamp\"].astype(str).str[:10]).dt.date\n",
    "donation_df=donation_df[[\"projectid\",\"donation_timestamp\",\"donation_to_project\"]]\n",
    "df = pd.merge(project_df_combined, donation_df, on=\"projectid\", how=\"left\")\n",
    "df[\"donation_to_project\"]=df[\"donation_to_project\"].fillna(0)\n",
    "# put all the donation before project posted at the start of the project date.\n",
    "df.loc[(df['week'] == 0) &\n",
    "        (df['donation_timestamp'].notna()) & \n",
    "        (df['donation_timestamp'] < df['date_posted']), \"donation_timestamp\"] = df[\"date_posted\"]\n",
    "\n",
    "intermedia = df[(df.donation_timestamp.isnull()) | ((df.donation_timestamp<= df.date_posted) & (df.donation_timestamp > df.date_posted - pd.DateOffset(months=1)))]\n",
    "intermedia = intermedia.groupby([\"projectid\",\"week\"]).sum(\"donation_to_project\").reset_index()[[\"projectid\",\"week\",\"donation_to_project\"]]\n",
    "project_time_series = pd.merge(project_df_combined, intermedia, on=[\"projectid\",\"week\"], how=\"left\")\n",
    "project_time_series[\"donation_to_project\"]=project_time_series[\"donation_to_project\"].fillna(0)\n",
    "project_time_series[\"donation_sum\"]= project_time_series.groupby('projectid')['donation_to_project'].cumsum()\n",
    "project_time_series[\"percentage complete\"]=project_time_series['donation_sum']/project_time_series['total_price_excluding_optional_support']\n",
    "project_time_series[(project_time_series[\"percentage complete\"]>=1)&(project_time_series[\"fully_funded\"]==\"t\")].projectid.nunique()\n"
   ]
  },
  {
   "cell_type": "markdown",
   "metadata": {},
   "source": [
    "# creating other features"
   ]
  },
  {
   "cell_type": "code",
   "execution_count": 8,
   "metadata": {},
   "outputs": [
    {
     "name": "stderr",
     "output_type": "stream",
     "text": [
      "/var/folders/1q/1dhz5r390wl8yb3wp_lwrdgm0000gn/T/ipykernel_43728/971523431.py:7: SettingWithCopyWarning: \n",
      "A value is trying to be set on a copy of a slice from a DataFrame.\n",
      "Try using .loc[row_indexer,col_indexer] = value instead\n",
      "\n",
      "See the caveats in the documentation: https://pandas.pydata.org/pandas-docs/stable/user_guide/indexing.html#returning-a-view-versus-a-copy\n",
      "  project_attribute[binary_col] = project_attribute[binary_col].replace({'t': 1, 'f': 0})\n"
     ]
    },
    {
     "data": {
      "text/html": [
       "<div>\n",
       "<style scoped>\n",
       "    .dataframe tbody tr th:only-of-type {\n",
       "        vertical-align: middle;\n",
       "    }\n",
       "\n",
       "    .dataframe tbody tr th {\n",
       "        vertical-align: top;\n",
       "    }\n",
       "\n",
       "    .dataframe thead tr th {\n",
       "        text-align: left;\n",
       "    }\n",
       "\n",
       "    .dataframe thead tr:last-of-type th {\n",
       "        text-align: right;\n",
       "    }\n",
       "</style>\n",
       "<table border=\"1\" class=\"dataframe\">\n",
       "  <thead>\n",
       "    <tr>\n",
       "      <th></th>\n",
       "      <th colspan=\"2\" halign=\"left\">date_posted</th>\n",
       "    </tr>\n",
       "    <tr>\n",
       "      <th></th>\n",
       "      <th>min</th>\n",
       "      <th>max</th>\n",
       "    </tr>\n",
       "    <tr>\n",
       "      <th>group</th>\n",
       "      <th></th>\n",
       "      <th></th>\n",
       "    </tr>\n",
       "  </thead>\n",
       "  <tbody>\n",
       "    <tr>\n",
       "      <th>0</th>\n",
       "      <td>2002-09-13</td>\n",
       "      <td>2008-12-21</td>\n",
       "    </tr>\n",
       "    <tr>\n",
       "      <th>1</th>\n",
       "      <td>2008-12-21</td>\n",
       "      <td>2010-12-02</td>\n",
       "    </tr>\n",
       "    <tr>\n",
       "      <th>2</th>\n",
       "      <td>2010-12-02</td>\n",
       "      <td>2012-03-11</td>\n",
       "    </tr>\n",
       "    <tr>\n",
       "      <th>3</th>\n",
       "      <td>2012-03-11</td>\n",
       "      <td>2013-09-02</td>\n",
       "    </tr>\n",
       "    <tr>\n",
       "      <th>4</th>\n",
       "      <td>2013-09-02</td>\n",
       "      <td>2014-09-12</td>\n",
       "    </tr>\n",
       "  </tbody>\n",
       "</table>\n",
       "</div>"
      ],
      "text/plain": [
       "      date_posted           \n",
       "              min        max\n",
       "group                       \n",
       "0      2002-09-13 2008-12-21\n",
       "1      2008-12-21 2010-12-02\n",
       "2      2010-12-02 2012-03-11\n",
       "3      2012-03-11 2013-09-02\n",
       "4      2013-09-02 2014-09-12"
      ]
     },
     "execution_count": 8,
     "metadata": {},
     "output_type": "execute_result"
    }
   ],
   "source": [
    "project_TS_NFF = project_time_series[(project_time_series[\"percentage complete\"]<1)& (project_time_series[\"week\"]<=4)]\n",
    "col =[\"projectid\",\"school_longitude\",\"school_latitude\", 'teacher_teach_for_america',\n",
    "      'resource_type', \"primary_focus_subject\", \"primary_focus_area\",\"grade_level\",\n",
    "        \"eligible_double_your_impact_match\",\"eligible_almost_home_match\",\"school_charter\",\"school_magnet\",\"school_year_round\",\"school_nlns\",\"school_kipp\",\"school_charter_ready_promise\"]\n",
    "project_attribute=project[col]\n",
    "binary_col=[\"teacher_teach_for_america\",\"eligible_double_your_impact_match\",\"eligible_almost_home_match\",\"school_charter\",\"school_magnet\",\"school_year_round\",\"school_nlns\",\"school_kipp\",\"school_charter_ready_promise\"]\n",
    "project_attribute[binary_col] = project_attribute[binary_col].replace({'t': 1, 'f': 0})\n",
    "project_attribute = pd.get_dummies(project_attribute, columns=['primary_focus_subject', \n",
    "                                        'primary_focus_area', \n",
    "                                        'resource_type','grade_level'])\n",
    "project_TS_NFF=pd.merge(project_TS_NFF,project_attribute, on=\"projectid\", how=\"left\")\n",
    "project_TS_NFF[\"month\"]=project_TS_NFF.date_posted.dt.month\n",
    "project_TS_NFF[\"fully_funded\"]=project_TS_NFF[\"fully_funded\"].map({\"t\":0, \"f\":1})\n",
    "project_TS_NFF= project_TS_NFF.rename(columns={'fully_funded': 'not_funded'})\n",
    "# group \n",
    "project_TS_NFF[\"group\"]=pd.qcut(project_TS_NFF['date_posted'].rank(method='first'), q=5,labels=False)\n",
    "project_TS_NFF.groupby(\"group\").agg({\"date_posted\":[\"min\",\"max\"]})\n"
   ]
  },
  {
   "cell_type": "code",
   "execution_count": 9,
   "metadata": {},
   "outputs": [],
   "source": [
    "project_TS_NFF.to_csv(\"project_time_series.csv\")"
   ]
  },
  {
   "cell_type": "code",
   "execution_count": null,
   "metadata": {},
   "outputs": [],
   "source": []
  }
 ],
 "metadata": {
  "kernelspec": {
   "display_name": "base",
   "language": "python",
   "name": "python3"
  },
  "language_info": {
   "codemirror_mode": {
    "name": "ipython",
    "version": 3
   },
   "file_extension": ".py",
   "mimetype": "text/x-python",
   "name": "python",
   "nbconvert_exporter": "python",
   "pygments_lexer": "ipython3",
   "version": "3.11.9"
  }
 },
 "nbformat": 4,
 "nbformat_minor": 2
}
